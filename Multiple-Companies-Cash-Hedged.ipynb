{
 "cells": [
  {
   "cell_type": "markdown",
   "id": "11c3d109-4500-49b4-a904-dc40d59c50a7",
   "metadata": {},
   "source": [
    "# REQUIREMENTS"
   ]
  },
  {
   "cell_type": "code",
   "id": "52c33f6e-7c8c-46da-a475-b3132f53acb6",
   "metadata": {
    "colab": {
     "base_uri": "https://localhost:8080/"
    },
    "executionInfo": {
     "elapsed": 21990,
     "status": "ok",
     "timestamp": 1729884586048,
     "user": {
      "displayName": "Veer Vohra",
      "userId": "09792721040302410053"
     },
     "user_tz": 240
    },
    "id": "52c33f6e-7c8c-46da-a475-b3132f53acb6",
    "outputId": "26acfc9e-f1e5-45a1-837d-8c39c3297d4e",
    "ExecuteTime": {
     "end_time": "2024-11-26T02:13:56.490670Z",
     "start_time": "2024-11-26T02:13:43.851160Z"
    }
   },
   "source": [
    "import wrds, datetime\n",
    "import pandas as pd\n",
    "import numpy as np\n",
    "from sklearn.linear_model import LinearRegression\n",
    "import statsmodels.api as sm\n",
    "import matplotlib.pyplot as plt\n",
    "pd.options.mode.chained_assignment = None  # default='warn'\n",
    "\n",
    "conn = wrds.Connection()"
   ],
   "outputs": [
    {
     "name": "stdout",
     "output_type": "stream",
     "text": [
      "WRDS recommends setting up a .pgpass file.\n",
      "Created .pgpass file successfully.\n",
      "You can create this file yourself at any time with the create_pgpass_file() function.\n",
      "Loading library list...\n",
      "Done\n"
     ]
    }
   ],
   "execution_count": 1
  },
  {
   "cell_type": "markdown",
   "id": "d1071926-524b-4579-b168-001651c0cccb",
   "metadata": {
    "tags": []
   },
   "source": [
    "# DATA COLLECTION"
   ]
  },
  {
   "cell_type": "markdown",
   "id": "fb72f971d970daee",
   "metadata": {},
   "source": [
    "Dev Thoughts: will need to make sure this is using adj close for all returns, and that things like stock splits are accounted for to make it PiT. "
   ]
  },
  {
   "cell_type": "code",
   "id": "d32f175d",
   "metadata": {
    "ExecuteTime": {
     "end_time": "2024-11-26T02:13:58.256506Z",
     "start_time": "2024-11-26T02:13:58.090975Z"
    }
   },
   "source": [
    "sp500_data = conn.raw_sql(\"\"\"\n",
    "SELECT\n",
    "    caldt AS date,\n",
    "    sprtrn AS daily_return -- Equal-Weighted Return (includes distributions) (ewretd)\n",
    "FROM\n",
    "    crspq.dsp500\n",
    "WHERE\n",
    "    caldt >= '1990-01-01'\n",
    "ORDER BY\n",
    "    caldt;\n",
    "\"\"\")\n",
    "sp500_data['date'] = pd.to_datetime(sp500_data['date'])\n",
    "\n",
    "sp500_data"
   ],
   "outputs": [
    {
     "data": {
      "text/plain": [
       "           date  daily_return\n",
       "0    1990-01-02      0.017799\n",
       "1    1990-01-03     -0.002586\n",
       "2    1990-01-04     -0.008613\n",
       "3    1990-01-05     -0.009756\n",
       "4    1990-01-08      0.004514\n",
       "...         ...           ...\n",
       "8748 2024-09-24      0.002511\n",
       "8749 2024-09-25     -0.001861\n",
       "8750 2024-09-26      0.004039\n",
       "8751 2024-09-27     -0.001253\n",
       "8752 2024-09-30      0.004237\n",
       "\n",
       "[8753 rows x 2 columns]"
      ],
      "text/html": [
       "<div>\n",
       "<style scoped>\n",
       "    .dataframe tbody tr th:only-of-type {\n",
       "        vertical-align: middle;\n",
       "    }\n",
       "\n",
       "    .dataframe tbody tr th {\n",
       "        vertical-align: top;\n",
       "    }\n",
       "\n",
       "    .dataframe thead th {\n",
       "        text-align: right;\n",
       "    }\n",
       "</style>\n",
       "<table border=\"1\" class=\"dataframe\">\n",
       "  <thead>\n",
       "    <tr style=\"text-align: right;\">\n",
       "      <th></th>\n",
       "      <th>date</th>\n",
       "      <th>daily_return</th>\n",
       "    </tr>\n",
       "  </thead>\n",
       "  <tbody>\n",
       "    <tr>\n",
       "      <th>0</th>\n",
       "      <td>1990-01-02</td>\n",
       "      <td>0.017799</td>\n",
       "    </tr>\n",
       "    <tr>\n",
       "      <th>1</th>\n",
       "      <td>1990-01-03</td>\n",
       "      <td>-0.002586</td>\n",
       "    </tr>\n",
       "    <tr>\n",
       "      <th>2</th>\n",
       "      <td>1990-01-04</td>\n",
       "      <td>-0.008613</td>\n",
       "    </tr>\n",
       "    <tr>\n",
       "      <th>3</th>\n",
       "      <td>1990-01-05</td>\n",
       "      <td>-0.009756</td>\n",
       "    </tr>\n",
       "    <tr>\n",
       "      <th>4</th>\n",
       "      <td>1990-01-08</td>\n",
       "      <td>0.004514</td>\n",
       "    </tr>\n",
       "    <tr>\n",
       "      <th>...</th>\n",
       "      <td>...</td>\n",
       "      <td>...</td>\n",
       "    </tr>\n",
       "    <tr>\n",
       "      <th>8748</th>\n",
       "      <td>2024-09-24</td>\n",
       "      <td>0.002511</td>\n",
       "    </tr>\n",
       "    <tr>\n",
       "      <th>8749</th>\n",
       "      <td>2024-09-25</td>\n",
       "      <td>-0.001861</td>\n",
       "    </tr>\n",
       "    <tr>\n",
       "      <th>8750</th>\n",
       "      <td>2024-09-26</td>\n",
       "      <td>0.004039</td>\n",
       "    </tr>\n",
       "    <tr>\n",
       "      <th>8751</th>\n",
       "      <td>2024-09-27</td>\n",
       "      <td>-0.001253</td>\n",
       "    </tr>\n",
       "    <tr>\n",
       "      <th>8752</th>\n",
       "      <td>2024-09-30</td>\n",
       "      <td>0.004237</td>\n",
       "    </tr>\n",
       "  </tbody>\n",
       "</table>\n",
       "<p>8753 rows × 2 columns</p>\n",
       "</div>"
      ]
     },
     "execution_count": 2,
     "metadata": {},
     "output_type": "execute_result"
    }
   ],
   "execution_count": 2
  },
  {
   "cell_type": "code",
   "id": "af28baae-31fe-42c0-bbff-7d45eb60fe94",
   "metadata": {
    "colab": {
     "base_uri": "https://localhost:8080/",
     "height": 423
    },
    "executionInfo": {
     "elapsed": 329,
     "status": "ok",
     "timestamp": 1729884641090,
     "user": {
      "displayName": "Veer Vohra",
      "userId": "09792721040302410053"
     },
     "user_tz": 240
    },
    "id": "af28baae-31fe-42c0-bbff-7d45eb60fe94",
    "outputId": "d8109886-63d5-4f5c-edb8-27b24c8fa71c",
    "ExecuteTime": {
     "end_time": "2024-11-26T02:14:00.255858Z",
     "start_time": "2024-11-26T02:14:00.113355Z"
    }
   },
   "source": [
    "risk_free_data = conn.raw_sql('''\n",
    "    SELECT\n",
    "        date,\n",
    "        rf AS daily_rf_rate -- One Month Treasury Bill Rate (daily)\n",
    "    FROM\n",
    "        ff.factors_daily\n",
    "    WHERE\n",
    "        date >= '1990-01-01'\n",
    "''')\n",
    "\n",
    "risk_free_data['date'] = pd.to_datetime(risk_free_data['date'])\n",
    "\n",
    "risk_free_data"
   ],
   "outputs": [
    {
     "data": {
      "text/plain": [
       "           date  daily_rf_rate\n",
       "0    1990-01-02        0.00026\n",
       "1    1990-01-03        0.00026\n",
       "2    1990-01-04        0.00026\n",
       "3    1990-01-05        0.00026\n",
       "4    1990-01-08        0.00026\n",
       "...         ...            ...\n",
       "8748 2024-09-24        0.00020\n",
       "8749 2024-09-25        0.00020\n",
       "8750 2024-09-26        0.00020\n",
       "8751 2024-09-27        0.00020\n",
       "8752 2024-09-30        0.00020\n",
       "\n",
       "[8753 rows x 2 columns]"
      ],
      "text/html": [
       "<div>\n",
       "<style scoped>\n",
       "    .dataframe tbody tr th:only-of-type {\n",
       "        vertical-align: middle;\n",
       "    }\n",
       "\n",
       "    .dataframe tbody tr th {\n",
       "        vertical-align: top;\n",
       "    }\n",
       "\n",
       "    .dataframe thead th {\n",
       "        text-align: right;\n",
       "    }\n",
       "</style>\n",
       "<table border=\"1\" class=\"dataframe\">\n",
       "  <thead>\n",
       "    <tr style=\"text-align: right;\">\n",
       "      <th></th>\n",
       "      <th>date</th>\n",
       "      <th>daily_rf_rate</th>\n",
       "    </tr>\n",
       "  </thead>\n",
       "  <tbody>\n",
       "    <tr>\n",
       "      <th>0</th>\n",
       "      <td>1990-01-02</td>\n",
       "      <td>0.00026</td>\n",
       "    </tr>\n",
       "    <tr>\n",
       "      <th>1</th>\n",
       "      <td>1990-01-03</td>\n",
       "      <td>0.00026</td>\n",
       "    </tr>\n",
       "    <tr>\n",
       "      <th>2</th>\n",
       "      <td>1990-01-04</td>\n",
       "      <td>0.00026</td>\n",
       "    </tr>\n",
       "    <tr>\n",
       "      <th>3</th>\n",
       "      <td>1990-01-05</td>\n",
       "      <td>0.00026</td>\n",
       "    </tr>\n",
       "    <tr>\n",
       "      <th>4</th>\n",
       "      <td>1990-01-08</td>\n",
       "      <td>0.00026</td>\n",
       "    </tr>\n",
       "    <tr>\n",
       "      <th>...</th>\n",
       "      <td>...</td>\n",
       "      <td>...</td>\n",
       "    </tr>\n",
       "    <tr>\n",
       "      <th>8748</th>\n",
       "      <td>2024-09-24</td>\n",
       "      <td>0.00020</td>\n",
       "    </tr>\n",
       "    <tr>\n",
       "      <th>8749</th>\n",
       "      <td>2024-09-25</td>\n",
       "      <td>0.00020</td>\n",
       "    </tr>\n",
       "    <tr>\n",
       "      <th>8750</th>\n",
       "      <td>2024-09-26</td>\n",
       "      <td>0.00020</td>\n",
       "    </tr>\n",
       "    <tr>\n",
       "      <th>8751</th>\n",
       "      <td>2024-09-27</td>\n",
       "      <td>0.00020</td>\n",
       "    </tr>\n",
       "    <tr>\n",
       "      <th>8752</th>\n",
       "      <td>2024-09-30</td>\n",
       "      <td>0.00020</td>\n",
       "    </tr>\n",
       "  </tbody>\n",
       "</table>\n",
       "<p>8753 rows × 2 columns</p>\n",
       "</div>"
      ]
     },
     "execution_count": 3,
     "metadata": {},
     "output_type": "execute_result"
    }
   ],
   "execution_count": 3
  },
  {
   "cell_type": "markdown",
   "id": "18b4b66e-5799-41fa-a11c-efa4267be933",
   "metadata": {},
   "source": [
    "### COMPANY DATA"
   ]
  },
  {
   "cell_type": "code",
   "id": "7ea447a1-3050-4a05-8635-18d21c1cd159",
   "metadata": {
    "id": "7ea447a1-3050-4a05-8635-18d21c1cd159",
    "ExecuteTime": {
     "end_time": "2024-11-26T02:14:03.303368Z",
     "start_time": "2024-11-26T02:14:02.931692Z"
    }
   },
   "source": [
    "# retrieves ID (permno) and earliest recorded name for each company in CRSP database\n",
    "# 37,776 companies available\n",
    "\n",
    "comps = conn.raw_sql( '''\n",
    "SELECT permno, MIN(comnam) AS company_name\n",
    "FROM crsp.stocknames\n",
    "GROUP BY permno\n",
    "''')\n",
    "comps"
   ],
   "outputs": [
    {
     "data": {
      "text/plain": [
       "       permno                   company_name\n",
       "0       83264            GREIF BROTHERS CORP\n",
       "1       63618  HINDERLITER ENERGY EQUIP CORP\n",
       "2       10896          CAMILLE ST MORITZ INC\n",
       "3       69906        SEIBELS BRUCE GROUP INC\n",
       "4       79030        GREAT CENTRAL MINES LTD\n",
       "...       ...                            ...\n",
       "37771   14886                ARK E T F TRUST\n",
       "37772   79163                    A M F M INC\n",
       "37773   86036      BRENTWOOD INSTRUMENTS INC\n",
       "37774   92970   CHINA EDUCATION ALLIANCE INC\n",
       "37775   19812              ATHIRA PHARMA INC\n",
       "\n",
       "[37776 rows x 2 columns]"
      ],
      "text/html": [
       "<div>\n",
       "<style scoped>\n",
       "    .dataframe tbody tr th:only-of-type {\n",
       "        vertical-align: middle;\n",
       "    }\n",
       "\n",
       "    .dataframe tbody tr th {\n",
       "        vertical-align: top;\n",
       "    }\n",
       "\n",
       "    .dataframe thead th {\n",
       "        text-align: right;\n",
       "    }\n",
       "</style>\n",
       "<table border=\"1\" class=\"dataframe\">\n",
       "  <thead>\n",
       "    <tr style=\"text-align: right;\">\n",
       "      <th></th>\n",
       "      <th>permno</th>\n",
       "      <th>company_name</th>\n",
       "    </tr>\n",
       "  </thead>\n",
       "  <tbody>\n",
       "    <tr>\n",
       "      <th>0</th>\n",
       "      <td>83264</td>\n",
       "      <td>GREIF BROTHERS CORP</td>\n",
       "    </tr>\n",
       "    <tr>\n",
       "      <th>1</th>\n",
       "      <td>63618</td>\n",
       "      <td>HINDERLITER ENERGY EQUIP CORP</td>\n",
       "    </tr>\n",
       "    <tr>\n",
       "      <th>2</th>\n",
       "      <td>10896</td>\n",
       "      <td>CAMILLE ST MORITZ INC</td>\n",
       "    </tr>\n",
       "    <tr>\n",
       "      <th>3</th>\n",
       "      <td>69906</td>\n",
       "      <td>SEIBELS BRUCE GROUP INC</td>\n",
       "    </tr>\n",
       "    <tr>\n",
       "      <th>4</th>\n",
       "      <td>79030</td>\n",
       "      <td>GREAT CENTRAL MINES LTD</td>\n",
       "    </tr>\n",
       "    <tr>\n",
       "      <th>...</th>\n",
       "      <td>...</td>\n",
       "      <td>...</td>\n",
       "    </tr>\n",
       "    <tr>\n",
       "      <th>37771</th>\n",
       "      <td>14886</td>\n",
       "      <td>ARK E T F TRUST</td>\n",
       "    </tr>\n",
       "    <tr>\n",
       "      <th>37772</th>\n",
       "      <td>79163</td>\n",
       "      <td>A M F M INC</td>\n",
       "    </tr>\n",
       "    <tr>\n",
       "      <th>37773</th>\n",
       "      <td>86036</td>\n",
       "      <td>BRENTWOOD INSTRUMENTS INC</td>\n",
       "    </tr>\n",
       "    <tr>\n",
       "      <th>37774</th>\n",
       "      <td>92970</td>\n",
       "      <td>CHINA EDUCATION ALLIANCE INC</td>\n",
       "    </tr>\n",
       "    <tr>\n",
       "      <th>37775</th>\n",
       "      <td>19812</td>\n",
       "      <td>ATHIRA PHARMA INC</td>\n",
       "    </tr>\n",
       "  </tbody>\n",
       "</table>\n",
       "<p>37776 rows × 2 columns</p>\n",
       "</div>"
      ]
     },
     "execution_count": 4,
     "metadata": {},
     "output_type": "execute_result"
    }
   ],
   "execution_count": 4
  },
  {
   "cell_type": "code",
   "id": "ff25c0b5",
   "metadata": {
    "ExecuteTime": {
     "end_time": "2024-11-26T02:14:05.087769Z",
     "start_time": "2024-11-26T02:14:05.061619Z"
    }
   },
   "source": [
    "#TODO: choose a way to narrow the above list of permnos to <500. Will then use that list with the following functions to gather fin data\n",
    "#this will go away when the above is completed.\n",
    "\n",
    "company_search = 'NVIDIA' # FIND A COMPANY HERE\n",
    "\n",
    "comps[comps['company_name'].str.contains(f'{company_search}')]"
   ],
   "outputs": [
    {
     "data": {
      "text/plain": [
       "   permno company_name\n",
       "8   86580  NVIDIA CORP"
      ],
      "text/html": [
       "<div>\n",
       "<style scoped>\n",
       "    .dataframe tbody tr th:only-of-type {\n",
       "        vertical-align: middle;\n",
       "    }\n",
       "\n",
       "    .dataframe tbody tr th {\n",
       "        vertical-align: top;\n",
       "    }\n",
       "\n",
       "    .dataframe thead th {\n",
       "        text-align: right;\n",
       "    }\n",
       "</style>\n",
       "<table border=\"1\" class=\"dataframe\">\n",
       "  <thead>\n",
       "    <tr style=\"text-align: right;\">\n",
       "      <th></th>\n",
       "      <th>permno</th>\n",
       "      <th>company_name</th>\n",
       "    </tr>\n",
       "  </thead>\n",
       "  <tbody>\n",
       "    <tr>\n",
       "      <th>8</th>\n",
       "      <td>86580</td>\n",
       "      <td>NVIDIA CORP</td>\n",
       "    </tr>\n",
       "  </tbody>\n",
       "</table>\n",
       "</div>"
      ]
     },
     "execution_count": 5,
     "metadata": {},
     "output_type": "execute_result"
    }
   ],
   "execution_count": 5
  },
  {
   "metadata": {
    "ExecuteTime": {
     "end_time": "2024-11-26T02:21:54.831590Z",
     "start_time": "2024-11-26T02:21:54.825080Z"
    }
   },
   "cell_type": "code",
   "source": [
    "def get_comp_data(permno, gvkey):\n",
    "\n",
    "    company_fin_data = get_company_financials(gvkey)\n",
    "    \n",
    "    #forward fill\n",
    "    company_fin_data = company_fin_data.ffill().dropna()\n",
    "    company_stock_prcs = get_prices(permno)\n",
    "    \n",
    "    # Create new columns with just year and month\n",
    "    company_fin_data['year_month'] = company_fin_data['date'].dt.strftime('%Y-%m')\n",
    "    company_stock_prcs['year_month'] = company_stock_prcs['date'].dt.strftime('%Y-%m')\n",
    "    \n",
    "    company = pd.merge(company_fin_data, company_stock_prcs, on='year_month')\n",
    "\n",
    "    company.drop(columns=['year_month', 'date_y'], axis=1, inplace=True)\n",
    "    company.rename(columns={'date_x':'date'}, inplace=True)\n",
    "    \n",
    "    # company = pd.merge(company_fin_data, company_stock_prcs, on='date', how='inner')\n",
    "    # company['date'] = company['reporting_date'] # backtest logic TODO\n",
    "    return company"
   ],
   "id": "d3ed643d97b9bb24",
   "outputs": [],
   "execution_count": 33
  },
  {
   "metadata": {
    "ExecuteTime": {
     "end_time": "2024-11-26T02:21:55.692745Z",
     "start_time": "2024-11-26T02:21:55.685628Z"
    }
   },
   "cell_type": "code",
   "source": [
    "def get_company_financials(gvkey):\n",
    "    company_fin_data = conn.raw_sql(f'''\n",
    "    SELECT\n",
    "        datadate AS date,\n",
    "        gvkey AS gvkey,\n",
    "        rdq AS reporting_date, -- Date of which information was reported\n",
    "        atq AS total_assets,  -- Total Assets\n",
    "        chq AS cash_holdings,  -- Cash and Short-Term Investments\n",
    "        dlttq + dlcq AS total_debt,  -- Total Debt (long-term + short-term debt)\n",
    "        ibq AS earnings,  -- Earnings before extraordinary items\n",
    "        xrdq AS rd_expense,  -- R&D expense\n",
    "        dvpq AS dividends_paid,  -- Dividends paid\n",
    "        xintq AS interest_expense  -- Interest expense\n",
    "    FROM\n",
    "        comp.fundq\n",
    "    WHERE\n",
    "        gvkey = '{gvkey}'\n",
    "        AND datadate >= '1990-01-01'  -- Ensure data is after the link start date\n",
    "    ''')\n",
    "    \n",
    "    company_fin_data['date'] = pd.to_datetime(company_fin_data['date'])\n",
    "    company_fin_data['reporting_date'] = pd.to_datetime(company_fin_data['reporting_date'])\n",
    "    \n",
    "    start_date = company_fin_data['date'].min()\n",
    "    end_date = company_fin_data['date'].max()\n",
    "    all_months = pd.date_range(start=start_date, end=end_date, freq='ME')\n",
    "    full_range_df = pd.DataFrame({'date': all_months})\n",
    "    company_fin_data = pd.merge(full_range_df, company_fin_data, on='date', how='left')\n",
    "    \n",
    "    company_fin_data['month_start'] = company_fin_data['date'] - pd.offsets.MonthBegin()\n",
    "    company_fin_data['month_end'] = company_fin_data['date']\n",
    "    \n",
    "    return company_fin_data"
   ],
   "id": "7b6e3b48aaaf5aea",
   "outputs": [],
   "execution_count": 34
  },
  {
   "metadata": {
    "ExecuteTime": {
     "end_time": "2024-11-26T02:21:58.005625Z",
     "start_time": "2024-11-26T02:21:57.995229Z"
    }
   },
   "cell_type": "code",
   "source": [
    "def get_gvkey(permno):\n",
    "    link = conn.raw_sql(f'''\n",
    "    SELECT *\n",
    "    FROM crsp.ccmxpf_linktable\n",
    "    WHERE lpermno = {permno};\n",
    "    ''')\n",
    "    \n",
    "    return link['gvkey'][0]"
   ],
   "id": "5ac7ca486a817d04",
   "outputs": [],
   "execution_count": 35
  },
  {
   "metadata": {
    "ExecuteTime": {
     "end_time": "2024-11-26T02:21:58.815892Z",
     "start_time": "2024-11-26T02:21:58.809463Z"
    }
   },
   "cell_type": "code",
   "source": [
    "def get_prices(permno):\n",
    "    company_stock_prcs = conn.raw_sql(f'''\n",
    "    SELECT\n",
    "        date,\n",
    "        prc AS stock_price,\n",
    "        ret AS stock_return,  -- Stock returns from CRSP\n",
    "        prc * shrout AS market_cap  -- Market cap\n",
    "    FROM\n",
    "        crsp.msf\n",
    "    WHERE\n",
    "        permno = {permno}\n",
    "    ''')\n",
    "    \n",
    "    company_stock_prcs['date'] = pd.to_datetime(company_stock_prcs['date'])\n",
    "    \n",
    "    return company_stock_prcs"
   ],
   "id": "460f3b01a13c92f7",
   "outputs": [],
   "execution_count": 36
  },
  {
   "metadata": {
    "ExecuteTime": {
     "end_time": "2024-11-26T02:22:00.945459Z",
     "start_time": "2024-11-26T02:22:00.643460Z"
    }
   },
   "cell_type": "code",
   "source": [
    "permnos = [10107, 86580]\n",
    "gvkeys = [get_gvkey(permno) for permno in permnos]\n",
    "\n",
    "agg_fin_data = pd.DataFrame(columns=['date','gvkey','reporting_date','total_assets','cash_holdings','total_debt','earings','rd_expense','dividends_paid','interest_expense','month_start','month_end','stock_price','stock_return','market_cap'])\n",
    "agg_fin_data[['date', 'reporting_date', 'month_start', 'month_end']] = agg_fin_data[['date', 'reporting_date', 'month_start', 'month_end']].apply(pd.to_datetime)\n",
    "\n",
    "for i in range(len(permnos)):\n",
    "    temp = get_comp_data(permnos[i],gvkeys[i])\n",
    "    if not agg_fin_data.empty:\n",
    "        agg_fin_data = pd.concat([agg_fin_data, temp], ignore_index=True)\n",
    "    else:\n",
    "        agg_fin_data = temp\n",
    "    \n",
    "agg_fin_data = agg_fin_data.sort_values(by='date').reset_index(drop=True)\n",
    "agg_fin_data"
   ],
   "id": "4c157e3c097cf277",
   "outputs": [
    {
     "data": {
      "text/plain": [
       "          date   gvkey reporting_date  total_assets  cash_holdings  \\\n",
       "0   2007-04-30  117768     2007-05-10      2800.868        678.951   \n",
       "1   2007-05-31  117768     2007-05-10      2800.868        678.951   \n",
       "2   2007-06-30  117768     2007-05-10      2800.868        678.951   \n",
       "3   2007-07-31  117768     2007-08-09      3036.267        914.745   \n",
       "4   2007-08-31  117768     2007-08-09      3036.267        914.745   \n",
       "..         ...     ...            ...           ...            ...   \n",
       "392 2023-10-31  117768     2023-11-21     54148.000       5519.000   \n",
       "393 2023-11-30  117768     2023-11-21     54148.000       5519.000   \n",
       "394 2023-11-30  012141     2023-10-24    445785.000      80452.000   \n",
       "395 2023-12-31  012141     2024-01-30    470558.000      17305.000   \n",
       "396 2023-12-31  117768     2023-11-21     54148.000       5519.000   \n",
       "\n",
       "     total_debt   earnings  rd_expense  dividends_paid  interest_expense  \\\n",
       "0           0.0    132.259     158.321             0.0               0.0   \n",
       "1           0.0    132.259     158.321             0.0               0.0   \n",
       "2           0.0    132.259     158.321             0.0               0.0   \n",
       "3           0.0    172.732     157.952             0.0               0.0   \n",
       "4           0.0    172.732     157.952             0.0               0.0   \n",
       "..          ...        ...         ...             ...               ...   \n",
       "392     11027.0   9243.000    2294.000             0.0              63.0   \n",
       "393     11027.0   9243.000    2294.000             0.0              63.0   \n",
       "394    105681.0  22291.000    6659.000             0.0             538.0   \n",
       "395    111358.0  21870.000    7142.000             0.0             921.0   \n",
       "396     11027.0   9243.000    2294.000             0.0              63.0   \n",
       "\n",
       "    month_start  month_end  stock_price  stock_return    market_cap  \n",
       "0    2007-04-01 2007-04-30     32.89000      0.142807  1.193621e+07  \n",
       "1    2007-05-01 2007-05-31     34.63900      0.053177  1.257094e+07  \n",
       "2    2007-06-01 2007-06-30     41.31000      0.192586  1.499194e+07  \n",
       "3    2007-07-01 2007-07-31     45.76000      0.107722  1.674244e+07  \n",
       "4    2007-08-01 2007-08-31     51.16000      0.118007  1.871816e+07  \n",
       "..          ...        ...          ...           ...           ...  \n",
       "392  2023-10-01 2023-10-31    407.79999     -0.062507  1.005635e+09  \n",
       "393  2023-11-01 2023-11-30    467.70001      0.146886  1.155219e+09  \n",
       "394  2023-11-01 2023-11-30    378.91000      0.122889  2.816158e+09  \n",
       "395  2023-12-01 2023-12-31    376.04001     -0.007574  2.794828e+09  \n",
       "396  2023-12-01 2023-12-31    495.22000      0.058927  1.223193e+09  \n",
       "\n",
       "[397 rows x 15 columns]"
      ],
      "text/html": [
       "<div>\n",
       "<style scoped>\n",
       "    .dataframe tbody tr th:only-of-type {\n",
       "        vertical-align: middle;\n",
       "    }\n",
       "\n",
       "    .dataframe tbody tr th {\n",
       "        vertical-align: top;\n",
       "    }\n",
       "\n",
       "    .dataframe thead th {\n",
       "        text-align: right;\n",
       "    }\n",
       "</style>\n",
       "<table border=\"1\" class=\"dataframe\">\n",
       "  <thead>\n",
       "    <tr style=\"text-align: right;\">\n",
       "      <th></th>\n",
       "      <th>date</th>\n",
       "      <th>gvkey</th>\n",
       "      <th>reporting_date</th>\n",
       "      <th>total_assets</th>\n",
       "      <th>cash_holdings</th>\n",
       "      <th>total_debt</th>\n",
       "      <th>earnings</th>\n",
       "      <th>rd_expense</th>\n",
       "      <th>dividends_paid</th>\n",
       "      <th>interest_expense</th>\n",
       "      <th>month_start</th>\n",
       "      <th>month_end</th>\n",
       "      <th>stock_price</th>\n",
       "      <th>stock_return</th>\n",
       "      <th>market_cap</th>\n",
       "    </tr>\n",
       "  </thead>\n",
       "  <tbody>\n",
       "    <tr>\n",
       "      <th>0</th>\n",
       "      <td>2007-04-30</td>\n",
       "      <td>117768</td>\n",
       "      <td>2007-05-10</td>\n",
       "      <td>2800.868</td>\n",
       "      <td>678.951</td>\n",
       "      <td>0.0</td>\n",
       "      <td>132.259</td>\n",
       "      <td>158.321</td>\n",
       "      <td>0.0</td>\n",
       "      <td>0.0</td>\n",
       "      <td>2007-04-01</td>\n",
       "      <td>2007-04-30</td>\n",
       "      <td>32.89000</td>\n",
       "      <td>0.142807</td>\n",
       "      <td>1.193621e+07</td>\n",
       "    </tr>\n",
       "    <tr>\n",
       "      <th>1</th>\n",
       "      <td>2007-05-31</td>\n",
       "      <td>117768</td>\n",
       "      <td>2007-05-10</td>\n",
       "      <td>2800.868</td>\n",
       "      <td>678.951</td>\n",
       "      <td>0.0</td>\n",
       "      <td>132.259</td>\n",
       "      <td>158.321</td>\n",
       "      <td>0.0</td>\n",
       "      <td>0.0</td>\n",
       "      <td>2007-05-01</td>\n",
       "      <td>2007-05-31</td>\n",
       "      <td>34.63900</td>\n",
       "      <td>0.053177</td>\n",
       "      <td>1.257094e+07</td>\n",
       "    </tr>\n",
       "    <tr>\n",
       "      <th>2</th>\n",
       "      <td>2007-06-30</td>\n",
       "      <td>117768</td>\n",
       "      <td>2007-05-10</td>\n",
       "      <td>2800.868</td>\n",
       "      <td>678.951</td>\n",
       "      <td>0.0</td>\n",
       "      <td>132.259</td>\n",
       "      <td>158.321</td>\n",
       "      <td>0.0</td>\n",
       "      <td>0.0</td>\n",
       "      <td>2007-06-01</td>\n",
       "      <td>2007-06-30</td>\n",
       "      <td>41.31000</td>\n",
       "      <td>0.192586</td>\n",
       "      <td>1.499194e+07</td>\n",
       "    </tr>\n",
       "    <tr>\n",
       "      <th>3</th>\n",
       "      <td>2007-07-31</td>\n",
       "      <td>117768</td>\n",
       "      <td>2007-08-09</td>\n",
       "      <td>3036.267</td>\n",
       "      <td>914.745</td>\n",
       "      <td>0.0</td>\n",
       "      <td>172.732</td>\n",
       "      <td>157.952</td>\n",
       "      <td>0.0</td>\n",
       "      <td>0.0</td>\n",
       "      <td>2007-07-01</td>\n",
       "      <td>2007-07-31</td>\n",
       "      <td>45.76000</td>\n",
       "      <td>0.107722</td>\n",
       "      <td>1.674244e+07</td>\n",
       "    </tr>\n",
       "    <tr>\n",
       "      <th>4</th>\n",
       "      <td>2007-08-31</td>\n",
       "      <td>117768</td>\n",
       "      <td>2007-08-09</td>\n",
       "      <td>3036.267</td>\n",
       "      <td>914.745</td>\n",
       "      <td>0.0</td>\n",
       "      <td>172.732</td>\n",
       "      <td>157.952</td>\n",
       "      <td>0.0</td>\n",
       "      <td>0.0</td>\n",
       "      <td>2007-08-01</td>\n",
       "      <td>2007-08-31</td>\n",
       "      <td>51.16000</td>\n",
       "      <td>0.118007</td>\n",
       "      <td>1.871816e+07</td>\n",
       "    </tr>\n",
       "    <tr>\n",
       "      <th>...</th>\n",
       "      <td>...</td>\n",
       "      <td>...</td>\n",
       "      <td>...</td>\n",
       "      <td>...</td>\n",
       "      <td>...</td>\n",
       "      <td>...</td>\n",
       "      <td>...</td>\n",
       "      <td>...</td>\n",
       "      <td>...</td>\n",
       "      <td>...</td>\n",
       "      <td>...</td>\n",
       "      <td>...</td>\n",
       "      <td>...</td>\n",
       "      <td>...</td>\n",
       "      <td>...</td>\n",
       "    </tr>\n",
       "    <tr>\n",
       "      <th>392</th>\n",
       "      <td>2023-10-31</td>\n",
       "      <td>117768</td>\n",
       "      <td>2023-11-21</td>\n",
       "      <td>54148.000</td>\n",
       "      <td>5519.000</td>\n",
       "      <td>11027.0</td>\n",
       "      <td>9243.000</td>\n",
       "      <td>2294.000</td>\n",
       "      <td>0.0</td>\n",
       "      <td>63.0</td>\n",
       "      <td>2023-10-01</td>\n",
       "      <td>2023-10-31</td>\n",
       "      <td>407.79999</td>\n",
       "      <td>-0.062507</td>\n",
       "      <td>1.005635e+09</td>\n",
       "    </tr>\n",
       "    <tr>\n",
       "      <th>393</th>\n",
       "      <td>2023-11-30</td>\n",
       "      <td>117768</td>\n",
       "      <td>2023-11-21</td>\n",
       "      <td>54148.000</td>\n",
       "      <td>5519.000</td>\n",
       "      <td>11027.0</td>\n",
       "      <td>9243.000</td>\n",
       "      <td>2294.000</td>\n",
       "      <td>0.0</td>\n",
       "      <td>63.0</td>\n",
       "      <td>2023-11-01</td>\n",
       "      <td>2023-11-30</td>\n",
       "      <td>467.70001</td>\n",
       "      <td>0.146886</td>\n",
       "      <td>1.155219e+09</td>\n",
       "    </tr>\n",
       "    <tr>\n",
       "      <th>394</th>\n",
       "      <td>2023-11-30</td>\n",
       "      <td>012141</td>\n",
       "      <td>2023-10-24</td>\n",
       "      <td>445785.000</td>\n",
       "      <td>80452.000</td>\n",
       "      <td>105681.0</td>\n",
       "      <td>22291.000</td>\n",
       "      <td>6659.000</td>\n",
       "      <td>0.0</td>\n",
       "      <td>538.0</td>\n",
       "      <td>2023-11-01</td>\n",
       "      <td>2023-11-30</td>\n",
       "      <td>378.91000</td>\n",
       "      <td>0.122889</td>\n",
       "      <td>2.816158e+09</td>\n",
       "    </tr>\n",
       "    <tr>\n",
       "      <th>395</th>\n",
       "      <td>2023-12-31</td>\n",
       "      <td>012141</td>\n",
       "      <td>2024-01-30</td>\n",
       "      <td>470558.000</td>\n",
       "      <td>17305.000</td>\n",
       "      <td>111358.0</td>\n",
       "      <td>21870.000</td>\n",
       "      <td>7142.000</td>\n",
       "      <td>0.0</td>\n",
       "      <td>921.0</td>\n",
       "      <td>2023-12-01</td>\n",
       "      <td>2023-12-31</td>\n",
       "      <td>376.04001</td>\n",
       "      <td>-0.007574</td>\n",
       "      <td>2.794828e+09</td>\n",
       "    </tr>\n",
       "    <tr>\n",
       "      <th>396</th>\n",
       "      <td>2023-12-31</td>\n",
       "      <td>117768</td>\n",
       "      <td>2023-11-21</td>\n",
       "      <td>54148.000</td>\n",
       "      <td>5519.000</td>\n",
       "      <td>11027.0</td>\n",
       "      <td>9243.000</td>\n",
       "      <td>2294.000</td>\n",
       "      <td>0.0</td>\n",
       "      <td>63.0</td>\n",
       "      <td>2023-12-01</td>\n",
       "      <td>2023-12-31</td>\n",
       "      <td>495.22000</td>\n",
       "      <td>0.058927</td>\n",
       "      <td>1.223193e+09</td>\n",
       "    </tr>\n",
       "  </tbody>\n",
       "</table>\n",
       "<p>397 rows × 15 columns</p>\n",
       "</div>"
      ]
     },
     "execution_count": 37,
     "metadata": {},
     "output_type": "execute_result"
    }
   ],
   "execution_count": 37
  },
  {
   "cell_type": "markdown",
   "id": "15d444cfe29ea8e9",
   "metadata": {},
   "source": [
    "Side Note: Not sure what month_end and month_start accomplish, but those are incorrect currently. It needs to be sampled from open trading days, not just calendar dates. Trying to implement that in the following sql query, but then this messes with the current forward fill code. Will need to merge dates with EOM from in between months to use this query instead & then still successfully forward fill. I [dev] will do later."
   ]
  },
  {
   "cell_type": "code",
   "id": "8523071e0c2709d6",
   "metadata": {
    "ExecuteTime": {
     "end_time": "2024-11-26T00:10:51.898338Z",
     "start_time": "2024-11-26T00:10:51.891193Z"
    }
   },
   "source": [
    "# company_fin_data = conn.raw_sql(f'''\n",
    "# WITH monthly_data AS (\n",
    "#     SELECT DISTINCT\n",
    "#         date,\n",
    "#         MIN(date) OVER (PARTITION BY DATE_TRUNC('month', date)) AS month_start,\n",
    "#         MAX(date) OVER (PARTITION BY DATE_TRUNC('month', date)) AS month_end\n",
    "#     FROM crsp.dsf\n",
    "# ),\n",
    "# financial_data AS (\n",
    "#     SELECT\n",
    "#         datadate AS date,\n",
    "#         rdq AS reporting_date,\n",
    "#         atq AS total_assets,\n",
    "#         chq AS cash_holdings,\n",
    "#         dlttq + dlcq AS total_debt,\n",
    "#         ibq AS earnings,\n",
    "#         xrdq AS rd_expense,\n",
    "#         dvpq AS dividends_paid,\n",
    "#         xintq AS interest_expense\n",
    "#     FROM\n",
    "#         comp.fundq\n",
    "#     WHERE\n",
    "#         gvkey = '{company_gvkey}'\n",
    "#         AND datadate >= '1990-01-01'\n",
    "# )\n",
    "# SELECT\n",
    "#     f.*,\n",
    "#     m.month_start,\n",
    "#     m.month_end\n",
    "# FROM\n",
    "#     financial_data f\n",
    "# LEFT JOIN\n",
    "#     monthly_data m\n",
    "# ON\n",
    "#     f.date = m.date\n",
    "# ''')\n",
    "# company_fin_data"
   ],
   "outputs": [],
   "execution_count": 9
  },
  {
   "cell_type": "markdown",
   "id": "ea10723222143073",
   "metadata": {},
   "source": [
    "Dev Thought: crsp.msf ends in 2023; our compustat data goes to sept 2024. will need to address later. also need to make sure these prices & returns are using adj close (think it's safe to say yes tho)."
   ]
  },
  {
   "metadata": {},
   "cell_type": "markdown",
   "source": "# BREAKS FROM HERE DOWN... Dev not done yet. Will pick up on it tomorrow.",
   "id": "c32a016861569bc1"
  },
  {
   "cell_type": "code",
   "id": "d38fea56",
   "metadata": {
    "ExecuteTime": {
     "end_time": "2024-11-26T00:10:52.563338Z",
     "start_time": "2024-11-26T00:10:52.272460Z"
    }
   },
   "source": [
    "def aggregate_monthly(start_date, end_date, daily_data, column, agg_func):\n",
    "    mask = (daily_data['date'] >= start_date) & (daily_data['date'] <= end_date)\n",
    "    return agg_func(daily_data.loc[mask, column])\n",
    "\n",
    "company['snp_return'] = company.apply(\n",
    "    lambda row: aggregate_monthly(row['month_start'], row['month_end'], sp500_data, 'daily_return', \n",
    "                                    lambda x: np.prod(1 + x) - 1), axis=1\n",
    ")\n",
    "\n",
    "company['rf_rate'] = company.apply(\n",
    "    lambda row: aggregate_monthly(row['month_start'], row['month_end'], risk_free_data, 'daily_rf_rate', \n",
    "                                    lambda x: np.prod(1 + x) - 1), axis=1\n",
    ")\n",
    "\n",
    "company.drop(columns=['month_start', 'month_end'], axis=1, inplace=True)"
   ],
   "outputs": [],
   "execution_count": 14
  },
  {
   "cell_type": "markdown",
   "id": "1e366107-2afd-479e-bc94-fee2334d0b23",
   "metadata": {},
   "source": [
    "# CALCULATIONS (CASH-HEDGING & RETURNS)"
   ]
  },
  {
   "metadata": {
    "ExecuteTime": {
     "end_time": "2024-11-26T00:10:52.573904Z",
     "start_time": "2024-11-26T00:10:52.563338Z"
    }
   },
   "cell_type": "code",
   "source": [
    "#function to calculate everything below at once\n",
    "def calculate_returns(company, lower = 0.01, upper = 0.99):\n",
    "    company['cash_share_weight'] = (company['cash_holdings'] / company['total_assets'])\n",
    "    company['cash_holdings_t_minus_1'] = company['cash_holdings'].shift()\n",
    "    \n",
    "    calculate_b_it(company)\n",
    "    calculate_e_t()\n",
    "    company['cash_hedged_return'] = winsorize(company['cash_hedged_return'], lower, upper)\n",
    "    "
   ],
   "id": "5366156981698de",
   "outputs": [],
   "execution_count": 15
  },
  {
   "cell_type": "code",
   "id": "baa344ae7ccbc5ab",
   "metadata": {
    "ExecuteTime": {
     "end_time": "2024-11-26T00:10:52.586858Z",
     "start_time": "2024-11-26T00:10:52.573904Z"
    }
   },
   "source": [
    "company['cash_share_weight'] = (company['cash_holdings'] / company['total_assets'])\n",
    "company['cash_holdings_t_minus_1'] = company['cash_holdings'].shift()"
   ],
   "outputs": [],
   "execution_count": 16
  },
  {
   "metadata": {},
   "cell_type": "markdown",
   "source": "### $ b_{t}^{i} $ - return on cash between periods",
   "id": "b883af43fa5b7138"
  },
  {
   "metadata": {
    "ExecuteTime": {
     "end_time": "2024-11-26T00:10:52.606035Z",
     "start_time": "2024-11-26T00:10:52.590201Z"
    }
   },
   "cell_type": "code",
   "source": [
    "def calculate_b_it(company):\n",
    "    data = company.copy()\n",
    "    data['market_cap_t_minus_1'] = data['market_cap'].shift() # paper uses M_{t-1} for the denoms\n",
    "    data['leverage'] = data['total_debt'] / (data['total_debt'] + data['market_cap'])\n",
    "    \n",
    "    # Y VALUES\n",
    "    data['r_minus_R'] = data['stock_return'] - data['rf_rate']\n",
    "    \n",
    "    # REGRESSION VARIABLES\n",
    "    data['gamma_1'] = (data['cash_holdings'].diff()) / data['market_cap_t_minus_1']\n",
    "    data['gamma_2'] = (data['earnings'].diff()) / data['market_cap_t_minus_1']\n",
    "    data['gamma_3'] = ((data['total_assets'] - data['cash_holdings']).diff()) / data['market_cap_t_minus_1']\n",
    "    data['gamma_4'] = (data['rd_expense'].diff()) / data['market_cap_t_minus_1']\n",
    "    data['gamma_5'] = (data['interest_expense'].diff()) / data['market_cap_t_minus_1']\n",
    "    data['gamma_6'] = (data['dividends_paid'].diff()) / data['market_cap_t_minus_1']\n",
    "    data['gamma_7']= data['cash_holdings_t_minus_1'] / data['market_cap_t_minus_1']\n",
    "    data['gamma_8'] = data['leverage']\n",
    "    data['gamma_9'] = (data['total_debt'].diff() + data['market_cap_t_minus_1'].diff()) / (data['total_debt'].shift() + data['market_cap_t_minus_1'].shift())\n",
    "    data['gamma_10'] = (data['market_cap_t_minus_1'] * (data['cash_holdings'].diff())) / (data['market_cap'] ** 2)\n",
    "    data['gamma_11'] = (data['leverage'] * (data['cash_holdings'].diff())) / data['market_cap']\n",
    "    \n",
    "    data = data.dropna()\n",
    "    \n",
    "    y = data['r_minus_R']\n",
    "    X = data[['gamma_1', 'gamma_2', 'gamma_3', 'gamma_4', 'gamma_5', 'gamma_6', 'gamma_7', 'gamma_8', 'gamma_9', 'gamma_10', 'gamma_11']]\n",
    "    \n",
    "    X = sm.add_constant(X)\n",
    "    \n",
    "    model = sm.OLS(y, X).fit()\n",
    "    \n",
    "    print(model.summary())\n",
    "    \n",
    "    data['marginal_cash_value'] = (\n",
    "        model.params.iloc[0] +\n",
    "        (model.params.iloc[10] * (data['cash_holdings_t_minus_1'] / data['market_cap_t_minus_1'])) +\n",
    "        (model.params.iloc[11] * data['leverage'])\n",
    "    )\n",
    "    \n",
    "    data['average_cash_value'] = data['marginal_cash_value'] * data['cash_holdings']\n",
    "    \n",
    "    company['b_it'] = data['average_cash_value'].pct_change()  # monthly cash return"
   ],
   "id": "73ca3ab8b31b57aa",
   "outputs": [],
   "execution_count": 17
  },
  {
   "cell_type": "code",
   "id": "10807ab3",
   "metadata": {
    "ExecuteTime": {
     "end_time": "2024-11-26T00:10:52.614971Z",
     "start_time": "2024-11-26T00:10:52.609030Z"
    }
   },
   "source": [
    "# the paper calculates it in a pretty complicated method, we'll start like this\n",
    "# company['b_it'] = ( company['cash_holdings'] - company['cash_holdings_t_minus_1'] ) / company['cash_holdings_t_minus_1']"
   ],
   "outputs": [],
   "execution_count": 18
  },
  {
   "cell_type": "code",
   "id": "e78d3a3e",
   "metadata": {
    "ExecuteTime": {
     "end_time": "2024-11-26T00:10:52.643869Z",
     "start_time": "2024-11-26T00:10:52.614971Z"
    }
   },
   "source": [
    "data = company.copy()\n",
    "data['market_cap_t_minus_1'] = data['market_cap'].shift() # paper uses M_{t-1} for the denoms\n",
    "data['leverage'] = data['total_debt'] / (data['total_debt'] + data['market_cap'])\n",
    "\n",
    "# Y VALUES\n",
    "data['r_minus_R'] = data['stock_return'] - data['rf_rate']\n",
    "\n",
    "# REGRESSION VARIABLES\n",
    "data['gamma_1'] = (data['cash_holdings'].diff()) / data['market_cap_t_minus_1']\n",
    "data['gamma_2'] = (data['earnings'].diff()) / data['market_cap_t_minus_1']\n",
    "data['gamma_3'] = ((data['total_assets'] - data['cash_holdings']).diff()) / data['market_cap_t_minus_1']\n",
    "data['gamma_4'] = (data['rd_expense'].diff()) / data['market_cap_t_minus_1']\n",
    "data['gamma_5'] = (data['interest_expense'].diff()) / data['market_cap_t_minus_1']\n",
    "data['gamma_6'] = (data['dividends_paid'].diff()) / data['market_cap_t_minus_1']\n",
    "data['gamma_7']= data['cash_holdings_t_minus_1'] / data['market_cap_t_minus_1']\n",
    "data['gamma_8'] = data['leverage']\n",
    "data['gamma_9'] = (data['total_debt'].diff() + data['market_cap_t_minus_1'].diff()) / (data['total_debt'].shift() + data['market_cap_t_minus_1'].shift())\n",
    "data['gamma_10'] = (data['market_cap_t_minus_1'] * (data['cash_holdings'].diff())) / (data['market_cap'] ** 2)\n",
    "data['gamma_11'] = (data['leverage'] * (data['cash_holdings'].diff())) / data['market_cap']\n",
    "\n",
    "data = data.dropna()"
   ],
   "outputs": [],
   "execution_count": 19
  },
  {
   "cell_type": "code",
   "id": "edc0b1e4",
   "metadata": {
    "ExecuteTime": {
     "end_time": "2024-11-26T00:10:52.694295Z",
     "start_time": "2024-11-26T00:10:52.645905Z"
    }
   },
   "source": [
    "y = data['r_minus_R']\n",
    "X = data[['gamma_1', 'gamma_2', 'gamma_3', 'gamma_4', 'gamma_5', 'gamma_6', 'gamma_7', 'gamma_8', 'gamma_9', 'gamma_10', 'gamma_11']]\n",
    "\n",
    "X = sm.add_constant(X)\n",
    "\n",
    "model = sm.OLS(y, X).fit()\n",
    "\n",
    "print(model.summary())"
   ],
   "outputs": [
    {
     "name": "stdout",
     "output_type": "stream",
     "text": [
      "                            OLS Regression Results                            \n",
      "==============================================================================\n",
      "Dep. Variable:              r_minus_R   R-squared:                       0.063\n",
      "Model:                            OLS   Adj. R-squared:                  0.013\n",
      "Method:                 Least Squares   F-statistic:                     1.267\n",
      "Date:                Mon, 25 Nov 2024   Prob (F-statistic):              0.252\n",
      "Time:                        19:10:52   Log-Likelihood:                 118.07\n",
      "No. Observations:                 199   AIC:                            -214.1\n",
      "Df Residuals:                     188   BIC:                            -177.9\n",
      "Df Model:                          10                                         \n",
      "Covariance Type:            nonrobust                                         \n",
      "==============================================================================\n",
      "                 coef    std err          t      P>|t|      [0.025      0.975]\n",
      "------------------------------------------------------------------------------\n",
      "const          0.0240      0.020      1.208      0.229      -0.015       0.063\n",
      "gamma_1      -37.0537   3684.746     -0.010      0.992   -7305.814    7231.707\n",
      "gamma_2     1243.0509   1483.979      0.838      0.403   -1684.339    4170.441\n",
      "gamma_3       -7.5701    814.724     -0.009      0.993   -1614.746    1599.606\n",
      "gamma_4      847.1223   5632.538      0.150      0.881   -1.03e+04     1.2e+04\n",
      "gamma_5     5.206e+04   1.99e+05      0.261      0.794   -3.41e+05    4.45e+05\n",
      "gamma_6    -1.488e-07   7.71e-08     -1.929      0.055   -3.01e-07    3.33e-09\n",
      "gamma_7       92.6170    338.209      0.274      0.785    -574.555     759.789\n",
      "gamma_8       99.0822    262.833      0.377      0.707    -419.398     617.562\n",
      "gamma_9        0.0487      0.072      0.673      0.502      -0.094       0.192\n",
      "gamma_10    3294.5080   3155.304      1.044      0.298   -2929.842    9518.858\n",
      "gamma_11   -3.161e+07   1.64e+07     -1.930      0.055   -6.39e+07    7.05e+05\n",
      "==============================================================================\n",
      "Omnibus:                        6.683   Durbin-Watson:                   2.031\n",
      "Prob(Omnibus):                  0.035   Jarque-Bera (JB):                7.925\n",
      "Skew:                           0.262   Prob(JB):                       0.0190\n",
      "Kurtosis:                       3.825   Cond. No.                     2.76e+21\n",
      "==============================================================================\n",
      "\n",
      "Notes:\n",
      "[1] Standard Errors assume that the covariance matrix of the errors is correctly specified.\n",
      "[2] The smallest eigenvalue is 2.61e-41. This might indicate that there are\n",
      "strong multicollinearity problems or that the design matrix is singular.\n"
     ]
    }
   ],
   "execution_count": 20
  },
  {
   "cell_type": "code",
   "id": "e2875689",
   "metadata": {
    "ExecuteTime": {
     "end_time": "2024-11-26T00:10:52.709621Z",
     "start_time": "2024-11-26T00:10:52.697036Z"
    }
   },
   "source": [
    "data['marginal_cash_value'] = (\n",
    "    model.params.iloc[0] +\n",
    "    (model.params.iloc[10] * (data['cash_holdings_t_minus_1'] / data['market_cap_t_minus_1'])) +\n",
    "    (model.params.iloc[11] * data['leverage'])\n",
    ")\n",
    "\n",
    "data['average_cash_value'] = data['marginal_cash_value'] * data['cash_holdings']\n",
    "\n",
    "company['b_it'] = data['average_cash_value'].pct_change()  # monthly cash return\n"
   ],
   "outputs": [],
   "execution_count": 21
  },
  {
   "cell_type": "markdown",
   "id": "de19ced4-4480-4562-befc-0eaf2632e627",
   "metadata": {},
   "source": [
    "### $ e_{t}^{i} $ - cash hedged returns"
   ]
  },
  {
   "metadata": {
    "ExecuteTime": {
     "end_time": "2024-11-26T00:10:52.719679Z",
     "start_time": "2024-11-26T00:10:52.712431Z"
    }
   },
   "cell_type": "code",
   "source": [
    "def calculate_e_t(company):\n",
    "    company['cash_hedged_return'] = (1 / (1 - company['cash_share_weight'])) * (company['stock_return'] - (company['cash_share_weight']  * company['b_it']))"
   ],
   "id": "c66d1e0042af32e8",
   "outputs": [],
   "execution_count": 22
  },
  {
   "cell_type": "code",
   "id": "2ecf659e28e4296",
   "metadata": {
    "ExecuteTime": {
     "end_time": "2024-11-26T00:10:52.754625Z",
     "start_time": "2024-11-26T00:10:52.719679Z"
    }
   },
   "source": [
    "# calculate the cash-hedged return (e_it)\n",
    "\n",
    "company['cash_hedged_return'] = (1 / (1 - company['cash_share_weight'])) * (company['stock_return'] - (company['cash_share_weight']  * company['b_it']))\n",
    "\n",
    "company"
   ],
   "outputs": [
    {
     "data": {
      "text/plain": [
       "          date reporting_date  total_assets  cash_holdings  total_debt  \\\n",
       "0   2007-04-30     2007-05-10      2800.868        678.951         0.0   \n",
       "1   2007-05-31     2007-05-10      2800.868        678.951         0.0   \n",
       "2   2007-06-30     2007-05-10      2800.868        678.951         0.0   \n",
       "3   2007-07-31     2007-08-09      3036.267        914.745         0.0   \n",
       "4   2007-08-31     2007-08-09      3036.267        914.745         0.0   \n",
       "..         ...            ...           ...            ...         ...   \n",
       "196 2023-08-31     2023-08-23     49555.000       5783.000     10954.0   \n",
       "197 2023-09-30     2023-08-23     49555.000       5783.000     10954.0   \n",
       "198 2023-10-31     2023-11-21     54148.000       5519.000     11027.0   \n",
       "199 2023-11-30     2023-11-21     54148.000       5519.000     11027.0   \n",
       "200 2023-12-31     2023-11-21     54148.000       5519.000     11027.0   \n",
       "\n",
       "     earnings  rd_expense  dividends_paid  interest_expense  stock_price  \\\n",
       "0     132.259     158.321             0.0               0.0     32.89000   \n",
       "1     132.259     158.321             0.0               0.0     34.63900   \n",
       "2     132.259     158.321             0.0               0.0     41.31000   \n",
       "3     172.732     157.952             0.0               0.0     45.76000   \n",
       "4     172.732     157.952             0.0               0.0     51.16000   \n",
       "..        ...         ...             ...               ...          ...   \n",
       "196  6189.000    2041.000             0.0              65.0    493.54999   \n",
       "197  6189.000    2041.000             0.0              65.0    434.98999   \n",
       "198  9243.000    2294.000             0.0              63.0    407.79999   \n",
       "199  9243.000    2294.000             0.0              63.0    467.70001   \n",
       "200  9243.000    2294.000             0.0              63.0    495.22000   \n",
       "\n",
       "     stock_return    market_cap  snp_return   rf_rate  cash_share_weight  \\\n",
       "0        0.142807  1.193621e+07    0.043292  0.004409           0.242407   \n",
       "1        0.053177  1.257094e+07    0.032547  0.003967           0.242407   \n",
       "2        0.192586  1.499194e+07   -0.017817  0.003998           0.242407   \n",
       "3        0.107722  1.674244e+07   -0.031985  0.003998           0.301273   \n",
       "4        0.118007  1.871816e+07    0.012864  0.004148           0.301273   \n",
       "..            ...           ...         ...       ...                ...   \n",
       "196      0.056196  1.219068e+09   -0.017717  0.004610           0.116699   \n",
       "197     -0.118570  1.074425e+09   -0.048720  0.004208           0.116699   \n",
       "198     -0.062507  1.005635e+09   -0.021980  0.004630           0.101924   \n",
       "199      0.146886  1.155219e+09    0.089178  0.004419           0.101924   \n",
       "200      0.058927  1.223193e+09    0.044230  0.004208           0.101924   \n",
       "\n",
       "     cash_holdings_t_minus_1      b_it  cash_hedged_return  \n",
       "0                        NaN       NaN                 NaN  \n",
       "1                    678.951       NaN                 NaN  \n",
       "2                    678.951       NaN                 NaN  \n",
       "3                    678.951  0.155550            0.087100  \n",
       "4                    914.745  0.177855            0.092202  \n",
       "..                       ...       ...                 ...  \n",
       "196                 5783.000 -0.053215            0.070651  \n",
       "197                 5783.000  0.134645           -0.152024  \n",
       "198                 5783.000  0.026428           -0.072600  \n",
       "199                 5519.000 -0.129501            0.178254  \n",
       "200                 5519.000 -0.055571            0.071922  \n",
       "\n",
       "[201 rows x 18 columns]"
      ],
      "text/html": [
       "<div>\n",
       "<style scoped>\n",
       "    .dataframe tbody tr th:only-of-type {\n",
       "        vertical-align: middle;\n",
       "    }\n",
       "\n",
       "    .dataframe tbody tr th {\n",
       "        vertical-align: top;\n",
       "    }\n",
       "\n",
       "    .dataframe thead th {\n",
       "        text-align: right;\n",
       "    }\n",
       "</style>\n",
       "<table border=\"1\" class=\"dataframe\">\n",
       "  <thead>\n",
       "    <tr style=\"text-align: right;\">\n",
       "      <th></th>\n",
       "      <th>date</th>\n",
       "      <th>reporting_date</th>\n",
       "      <th>total_assets</th>\n",
       "      <th>cash_holdings</th>\n",
       "      <th>total_debt</th>\n",
       "      <th>earnings</th>\n",
       "      <th>rd_expense</th>\n",
       "      <th>dividends_paid</th>\n",
       "      <th>interest_expense</th>\n",
       "      <th>stock_price</th>\n",
       "      <th>stock_return</th>\n",
       "      <th>market_cap</th>\n",
       "      <th>snp_return</th>\n",
       "      <th>rf_rate</th>\n",
       "      <th>cash_share_weight</th>\n",
       "      <th>cash_holdings_t_minus_1</th>\n",
       "      <th>b_it</th>\n",
       "      <th>cash_hedged_return</th>\n",
       "    </tr>\n",
       "  </thead>\n",
       "  <tbody>\n",
       "    <tr>\n",
       "      <th>0</th>\n",
       "      <td>2007-04-30</td>\n",
       "      <td>2007-05-10</td>\n",
       "      <td>2800.868</td>\n",
       "      <td>678.951</td>\n",
       "      <td>0.0</td>\n",
       "      <td>132.259</td>\n",
       "      <td>158.321</td>\n",
       "      <td>0.0</td>\n",
       "      <td>0.0</td>\n",
       "      <td>32.89000</td>\n",
       "      <td>0.142807</td>\n",
       "      <td>1.193621e+07</td>\n",
       "      <td>0.043292</td>\n",
       "      <td>0.004409</td>\n",
       "      <td>0.242407</td>\n",
       "      <td>NaN</td>\n",
       "      <td>NaN</td>\n",
       "      <td>NaN</td>\n",
       "    </tr>\n",
       "    <tr>\n",
       "      <th>1</th>\n",
       "      <td>2007-05-31</td>\n",
       "      <td>2007-05-10</td>\n",
       "      <td>2800.868</td>\n",
       "      <td>678.951</td>\n",
       "      <td>0.0</td>\n",
       "      <td>132.259</td>\n",
       "      <td>158.321</td>\n",
       "      <td>0.0</td>\n",
       "      <td>0.0</td>\n",
       "      <td>34.63900</td>\n",
       "      <td>0.053177</td>\n",
       "      <td>1.257094e+07</td>\n",
       "      <td>0.032547</td>\n",
       "      <td>0.003967</td>\n",
       "      <td>0.242407</td>\n",
       "      <td>678.951</td>\n",
       "      <td>NaN</td>\n",
       "      <td>NaN</td>\n",
       "    </tr>\n",
       "    <tr>\n",
       "      <th>2</th>\n",
       "      <td>2007-06-30</td>\n",
       "      <td>2007-05-10</td>\n",
       "      <td>2800.868</td>\n",
       "      <td>678.951</td>\n",
       "      <td>0.0</td>\n",
       "      <td>132.259</td>\n",
       "      <td>158.321</td>\n",
       "      <td>0.0</td>\n",
       "      <td>0.0</td>\n",
       "      <td>41.31000</td>\n",
       "      <td>0.192586</td>\n",
       "      <td>1.499194e+07</td>\n",
       "      <td>-0.017817</td>\n",
       "      <td>0.003998</td>\n",
       "      <td>0.242407</td>\n",
       "      <td>678.951</td>\n",
       "      <td>NaN</td>\n",
       "      <td>NaN</td>\n",
       "    </tr>\n",
       "    <tr>\n",
       "      <th>3</th>\n",
       "      <td>2007-07-31</td>\n",
       "      <td>2007-08-09</td>\n",
       "      <td>3036.267</td>\n",
       "      <td>914.745</td>\n",
       "      <td>0.0</td>\n",
       "      <td>172.732</td>\n",
       "      <td>157.952</td>\n",
       "      <td>0.0</td>\n",
       "      <td>0.0</td>\n",
       "      <td>45.76000</td>\n",
       "      <td>0.107722</td>\n",
       "      <td>1.674244e+07</td>\n",
       "      <td>-0.031985</td>\n",
       "      <td>0.003998</td>\n",
       "      <td>0.301273</td>\n",
       "      <td>678.951</td>\n",
       "      <td>0.155550</td>\n",
       "      <td>0.087100</td>\n",
       "    </tr>\n",
       "    <tr>\n",
       "      <th>4</th>\n",
       "      <td>2007-08-31</td>\n",
       "      <td>2007-08-09</td>\n",
       "      <td>3036.267</td>\n",
       "      <td>914.745</td>\n",
       "      <td>0.0</td>\n",
       "      <td>172.732</td>\n",
       "      <td>157.952</td>\n",
       "      <td>0.0</td>\n",
       "      <td>0.0</td>\n",
       "      <td>51.16000</td>\n",
       "      <td>0.118007</td>\n",
       "      <td>1.871816e+07</td>\n",
       "      <td>0.012864</td>\n",
       "      <td>0.004148</td>\n",
       "      <td>0.301273</td>\n",
       "      <td>914.745</td>\n",
       "      <td>0.177855</td>\n",
       "      <td>0.092202</td>\n",
       "    </tr>\n",
       "    <tr>\n",
       "      <th>...</th>\n",
       "      <td>...</td>\n",
       "      <td>...</td>\n",
       "      <td>...</td>\n",
       "      <td>...</td>\n",
       "      <td>...</td>\n",
       "      <td>...</td>\n",
       "      <td>...</td>\n",
       "      <td>...</td>\n",
       "      <td>...</td>\n",
       "      <td>...</td>\n",
       "      <td>...</td>\n",
       "      <td>...</td>\n",
       "      <td>...</td>\n",
       "      <td>...</td>\n",
       "      <td>...</td>\n",
       "      <td>...</td>\n",
       "      <td>...</td>\n",
       "      <td>...</td>\n",
       "    </tr>\n",
       "    <tr>\n",
       "      <th>196</th>\n",
       "      <td>2023-08-31</td>\n",
       "      <td>2023-08-23</td>\n",
       "      <td>49555.000</td>\n",
       "      <td>5783.000</td>\n",
       "      <td>10954.0</td>\n",
       "      <td>6189.000</td>\n",
       "      <td>2041.000</td>\n",
       "      <td>0.0</td>\n",
       "      <td>65.0</td>\n",
       "      <td>493.54999</td>\n",
       "      <td>0.056196</td>\n",
       "      <td>1.219068e+09</td>\n",
       "      <td>-0.017717</td>\n",
       "      <td>0.004610</td>\n",
       "      <td>0.116699</td>\n",
       "      <td>5783.000</td>\n",
       "      <td>-0.053215</td>\n",
       "      <td>0.070651</td>\n",
       "    </tr>\n",
       "    <tr>\n",
       "      <th>197</th>\n",
       "      <td>2023-09-30</td>\n",
       "      <td>2023-08-23</td>\n",
       "      <td>49555.000</td>\n",
       "      <td>5783.000</td>\n",
       "      <td>10954.0</td>\n",
       "      <td>6189.000</td>\n",
       "      <td>2041.000</td>\n",
       "      <td>0.0</td>\n",
       "      <td>65.0</td>\n",
       "      <td>434.98999</td>\n",
       "      <td>-0.118570</td>\n",
       "      <td>1.074425e+09</td>\n",
       "      <td>-0.048720</td>\n",
       "      <td>0.004208</td>\n",
       "      <td>0.116699</td>\n",
       "      <td>5783.000</td>\n",
       "      <td>0.134645</td>\n",
       "      <td>-0.152024</td>\n",
       "    </tr>\n",
       "    <tr>\n",
       "      <th>198</th>\n",
       "      <td>2023-10-31</td>\n",
       "      <td>2023-11-21</td>\n",
       "      <td>54148.000</td>\n",
       "      <td>5519.000</td>\n",
       "      <td>11027.0</td>\n",
       "      <td>9243.000</td>\n",
       "      <td>2294.000</td>\n",
       "      <td>0.0</td>\n",
       "      <td>63.0</td>\n",
       "      <td>407.79999</td>\n",
       "      <td>-0.062507</td>\n",
       "      <td>1.005635e+09</td>\n",
       "      <td>-0.021980</td>\n",
       "      <td>0.004630</td>\n",
       "      <td>0.101924</td>\n",
       "      <td>5783.000</td>\n",
       "      <td>0.026428</td>\n",
       "      <td>-0.072600</td>\n",
       "    </tr>\n",
       "    <tr>\n",
       "      <th>199</th>\n",
       "      <td>2023-11-30</td>\n",
       "      <td>2023-11-21</td>\n",
       "      <td>54148.000</td>\n",
       "      <td>5519.000</td>\n",
       "      <td>11027.0</td>\n",
       "      <td>9243.000</td>\n",
       "      <td>2294.000</td>\n",
       "      <td>0.0</td>\n",
       "      <td>63.0</td>\n",
       "      <td>467.70001</td>\n",
       "      <td>0.146886</td>\n",
       "      <td>1.155219e+09</td>\n",
       "      <td>0.089178</td>\n",
       "      <td>0.004419</td>\n",
       "      <td>0.101924</td>\n",
       "      <td>5519.000</td>\n",
       "      <td>-0.129501</td>\n",
       "      <td>0.178254</td>\n",
       "    </tr>\n",
       "    <tr>\n",
       "      <th>200</th>\n",
       "      <td>2023-12-31</td>\n",
       "      <td>2023-11-21</td>\n",
       "      <td>54148.000</td>\n",
       "      <td>5519.000</td>\n",
       "      <td>11027.0</td>\n",
       "      <td>9243.000</td>\n",
       "      <td>2294.000</td>\n",
       "      <td>0.0</td>\n",
       "      <td>63.0</td>\n",
       "      <td>495.22000</td>\n",
       "      <td>0.058927</td>\n",
       "      <td>1.223193e+09</td>\n",
       "      <td>0.044230</td>\n",
       "      <td>0.004208</td>\n",
       "      <td>0.101924</td>\n",
       "      <td>5519.000</td>\n",
       "      <td>-0.055571</td>\n",
       "      <td>0.071922</td>\n",
       "    </tr>\n",
       "  </tbody>\n",
       "</table>\n",
       "<p>201 rows × 18 columns</p>\n",
       "</div>"
      ]
     },
     "execution_count": 23,
     "metadata": {},
     "output_type": "execute_result"
    }
   ],
   "execution_count": 23
  },
  {
   "cell_type": "code",
   "id": "8c2a581b",
   "metadata": {
    "ExecuteTime": {
     "end_time": "2024-11-26T00:10:52.763781Z",
     "start_time": "2024-11-26T00:10:52.756205Z"
    }
   },
   "source": [
    "def winsorize(series, lower=0.01, upper=0.99):\n",
    "    lower_threshold = series.quantile(lower)\n",
    "    upper_threshold = series.quantile(upper)\n",
    "    return series.clip(lower=lower_threshold, upper=upper_threshold)"
   ],
   "outputs": [],
   "execution_count": 24
  },
  {
   "cell_type": "markdown",
   "id": "4e11bd8e-3a10-45c6-841f-8482e0bd4679",
   "metadata": {},
   "source": [
    "# BETA CALCULATION"
   ]
  },
  {
   "cell_type": "code",
   "id": "1dbf4491",
   "metadata": {
    "ExecuteTime": {
     "end_time": "2024-11-26T00:10:52.774207Z",
     "start_time": "2024-11-26T00:10:52.765802Z"
    }
   },
   "source": [
    "window = 65 # months\n",
    "\n",
    "def calculate_rolling_beta(stock_return, market_return, window):\n",
    "    rolling_cov = stock_return.rolling(window).cov(market_return)\n",
    "    rolling_var = market_return.rolling(window).var()\n",
    "    return rolling_cov / rolling_var"
   ],
   "outputs": [],
   "execution_count": 25
  },
  {
   "cell_type": "code",
   "id": "ba039f45",
   "metadata": {
    "ExecuteTime": {
     "end_time": "2024-11-26T00:10:52.796415Z",
     "start_time": "2024-11-26T00:10:52.776218Z"
    }
   },
   "source": [
    "\n",
    "company['company_beta'] = calculate_rolling_beta(company['stock_return'], company['snp_return'], window)\n",
    "company['cash_hedged_beta'] = calculate_rolling_beta(company['cash_hedged_return'], company['snp_return'], window)\n",
    "company['snp_beta'] = calculate_rolling_beta(company['snp_return'], company['snp_return'], window)"
   ],
   "outputs": [],
   "execution_count": 26
  },
  {
   "cell_type": "code",
   "id": "debf7dc0",
   "metadata": {
    "ExecuteTime": {
     "end_time": "2024-11-26T00:10:53.139281Z",
     "start_time": "2024-11-26T00:10:52.799396Z"
    }
   },
   "source": [
    "plt.figure(figsize=(12, 6))\n",
    "plt.plot(company['date'], company['company_beta'], label=f'{company_name} Beta', color='blue')\n",
    "plt.plot(company['date'], company['cash_hedged_beta'], label='Cash-Hedged Beta', color='green')\n",
    "plt.axhline(1, color='red', linestyle='--', label='SNP500 Beta = 1')\n",
    "plt.title('Rolling Beta')\n",
    "plt.xlabel('Date')\n",
    "plt.ylabel('Beta')\n",
    "plt.legend()\n",
    "#plt.ylim(-0, 2)\n",
    "plt.grid()\n",
    "plt.show()\n"
   ],
   "outputs": [
    {
     "data": {
      "text/plain": [
       "<Figure size 1200x600 with 1 Axes>"
      ],
      "image/png": "[encoded data removed]"
     },
     "metadata": {},
     "output_type": "display_data"
    }
   ],
   "execution_count": 27
  },
  {
   "cell_type": "markdown",
   "id": "1eb775e4",
   "metadata": {},
   "source": [
    "## RETURNS ANALYSIS"
   ]
  },
  {
   "cell_type": "code",
   "id": "2f06e763",
   "metadata": {
    "ExecuteTime": {
     "end_time": "2024-11-26T00:10:53.609139Z",
     "start_time": "2024-11-26T00:10:53.146358Z"
    }
   },
   "source": [
    "\n",
    "plt.figure(figsize=(12, 6))\n",
    "plt.plot(company['date'], company['snp_return'], label='S&P 500', color='black')\n",
    "plt.plot(company['date'], company['stock_return'], label=f'{company_name}', color='blue')\n",
    "plt.plot(company['date'], company['cash_hedged_return'], label=f'Cash-Hedged {company_name}', color='green')\n",
    "plt.plot(company['date'], company['rf_rate'], label='Risk Free', color='red')\n",
    "plt.title('Monthly Returns')\n",
    "plt.xlabel('Date')\n",
    "plt.ylabel('Return')\n",
    "plt.legend()\n",
    "plt.grid()\n",
    "plt.show()"
   ],
   "outputs": [
    {
     "data": {
      "text/plain": [
       "<Figure size 1200x600 with 1 Axes>"
      ],
      "image/png": "[encoded data removed]"
     },
     "metadata": {},
     "output_type": "display_data"
    }
   ],
   "execution_count": 28
  },
  {
   "cell_type": "code",
   "id": "5032a600",
   "metadata": {
    "ExecuteTime": {
     "end_time": "2024-11-26T00:10:53.625224Z",
     "start_time": "2024-11-26T00:10:53.609139Z"
    }
   },
   "source": [
    "company['snp_cum_return'] = (1 + company['snp_return']).cumprod() - 1\n",
    "company['company_cum_return'] = (1 + company['stock_return']).cumprod() - 1\n",
    "company['cash_hedged_cum_return'] = (1 + company['cash_hedged_return']).cumprod() - 1\n",
    "company['rf_cum_return'] = (1 + company['rf_rate']).cumprod() - 1"
   ],
   "outputs": [],
   "execution_count": 29
  },
  {
   "cell_type": "code",
   "id": "076c9f01",
   "metadata": {
    "ExecuteTime": {
     "end_time": "2024-11-26T00:10:53.916098Z",
     "start_time": "2024-11-26T00:10:53.626285Z"
    }
   },
   "source": [
    "plt.figure(figsize=(12, 6))\n",
    "plt.plot(company['date'], company['snp_cum_return'], label='S&P 500', color='black')\n",
    "plt.plot(company['date'], company['company_cum_return'], label=f'{company_name}', color='blue')\n",
    "plt.plot(company['date'], company['cash_hedged_cum_return'], label=f'Cash-Hedged {company_name}', color='green')\n",
    "plt.plot(company['date'], company['rf_cum_return'], label='Risk Free', color='red')\n",
    "plt.title('Cumulative Returns')\n",
    "plt.xlabel('Date')\n",
    "plt.ylabel('Cumulative Return')\n",
    "plt.legend()\n",
    "plt.grid()\n",
    "plt.show()"
   ],
   "outputs": [
    {
     "data": {
      "text/plain": [
       "<Figure size 1200x600 with 1 Axes>"
      ],
      "image/png": "[encoded data removed]"
     },
     "metadata": {},
     "output_type": "display_data"
    }
   ],
   "execution_count": 30
  },
  {
   "cell_type": "code",
   "id": "c4be6721",
   "metadata": {
    "ExecuteTime": {
     "end_time": "2024-11-26T00:10:53.944717Z",
     "start_time": "2024-11-26T00:10:53.918470Z"
    }
   },
   "source": [
    "def sharpe(ret):\n",
    "    excess_ret = company[f\"{ret}\"] - company[\"rf_rate\"]\n",
    "    average_excess_return = excess_ret.mean()\n",
    "    std_excess_return = excess_ret.std()\n",
    "    return (average_excess_return / std_excess_return) * np.sqrt(12)\n",
    "\n",
    "print(\"ANNUALISED:\")\n",
    "\n",
    "pd.DataFrame(\n",
    "    [\n",
    "        [\"SNP500\" , '{0:.4f}'.format(sharpe('snp_return')), (1 + company['snp_return'].mean()) ** 12 - 1, (1 + (company['snp_return'].std()**2)) ** 12 - 1],\n",
    "        [f\"{company_name}\" , '{0:.4f}'.format(sharpe('stock_return')), (1 + company['stock_return'].mean()) ** 12 - 1, (1 + (company['stock_return'].std()**2)) ** 12 - 1],\n",
    "        [f\"Cash Hedged {company_name}\" , '{0:.4f}'.format(sharpe('cash_hedged_return')), (1 + company['cash_hedged_return'].mean()) ** 12 - 1, (1 + (company['cash_hedged_return'].std()**2)) ** 12 - 1]\n",
    "    ],\n",
    "    columns=['Asset', 'SHARPE', 'Mean Return', 'Volatility']\n",
    ")"
   ],
   "outputs": [
    {
     "name": "stdout",
     "output_type": "stream",
     "text": [
      "ANNUALISED:\n"
     ]
    },
    {
     "data": {
      "text/plain": [
       "                     Asset  SHARPE  Mean Return    Volatility\n",
       "0                   SNP500  0.4705     0.088856  2.590505e-02\n",
       "1              NVIDIA CORP  0.8104     0.478346  2.541916e-01\n",
       "2  Cash Hedged NVIDIA CORP  0.1269     6.162890  4.599075e+16"
      ],
      "text/html": [
       "<div>\n",
       "<style scoped>\n",
       "    .dataframe tbody tr th:only-of-type {\n",
       "        vertical-align: middle;\n",
       "    }\n",
       "\n",
       "    .dataframe tbody tr th {\n",
       "        vertical-align: top;\n",
       "    }\n",
       "\n",
       "    .dataframe thead th {\n",
       "        text-align: right;\n",
       "    }\n",
       "</style>\n",
       "<table border=\"1\" class=\"dataframe\">\n",
       "  <thead>\n",
       "    <tr style=\"text-align: right;\">\n",
       "      <th></th>\n",
       "      <th>Asset</th>\n",
       "      <th>SHARPE</th>\n",
       "      <th>Mean Return</th>\n",
       "      <th>Volatility</th>\n",
       "    </tr>\n",
       "  </thead>\n",
       "  <tbody>\n",
       "    <tr>\n",
       "      <th>0</th>\n",
       "      <td>SNP500</td>\n",
       "      <td>0.4705</td>\n",
       "      <td>0.088856</td>\n",
       "      <td>2.590505e-02</td>\n",
       "    </tr>\n",
       "    <tr>\n",
       "      <th>1</th>\n",
       "      <td>NVIDIA CORP</td>\n",
       "      <td>0.8104</td>\n",
       "      <td>0.478346</td>\n",
       "      <td>2.541916e-01</td>\n",
       "    </tr>\n",
       "    <tr>\n",
       "      <th>2</th>\n",
       "      <td>Cash Hedged NVIDIA CORP</td>\n",
       "      <td>0.1269</td>\n",
       "      <td>6.162890</td>\n",
       "      <td>4.599075e+16</td>\n",
       "    </tr>\n",
       "  </tbody>\n",
       "</table>\n",
       "</div>"
      ]
     },
     "execution_count": 31,
     "metadata": {},
     "output_type": "execute_result"
    }
   ],
   "execution_count": 31
  },
  {
   "cell_type": "code",
   "id": "40326bd8",
   "metadata": {
    "ExecuteTime": {
     "end_time": "2024-11-26T00:10:54.351412Z",
     "start_time": "2024-11-26T00:10:53.947249Z"
    }
   },
   "source": [
    "plt.figure(figsize=(10, 6))\n",
    "\n",
    "plt.hist(company['snp_return'], label='S&P 500', color='black', alpha=0.5)\n",
    "plt.hist(company['stock_return'], label=f'{company_name}', color='blue', alpha=0.5)\n",
    "plt.hist(company['cash_hedged_return'], label=f'Cash-Hedged {company_name}', color='green', alpha=0.5)\n",
    "\n",
    "plt.axvline(company[\"snp_return\"].mean(), color=\"black\", linestyle=\"--\", label=f\"S&P 500\")\n",
    "plt.axvline(company[\"stock_return\"].mean(), color=\"blue\", linestyle=\"-.\", label=f'{company_name}')\n",
    "plt.axvline(company[\"cash_hedged_return\"].mean(), color=\"green\", linestyle=\"--\", label=f'Cash-Hedged {company_name}')\n",
    "\n",
    "plt.title(\"Monthly Returns with Mean Line\", fontsize=14)\n",
    "plt.xlabel(\"Return\", fontsize=12)\n",
    "plt.ylabel(\"Frequency\", fontsize=12)\n",
    "plt.xticks(rotation=45)\n",
    "plt.legend()\n",
    "plt.grid(axis=\"y\", linestyle=\"--\", alpha=0.7)\n",
    "\n",
    "plt.tight_layout()\n",
    "plt.ylim(0, 80)\n",
    "plt.show()"
   ],
   "outputs": [
    {
     "data": {
      "text/plain": [
       "<Figure size 1000x600 with 1 Axes>"
      ],
      "image/png": "[encoded data removed]"
     },
     "metadata": {},
     "output_type": "display_data"
    }
   ],
   "execution_count": 32
  },
  {
   "cell_type": "code",
   "id": "9c1ef944",
   "metadata": {
    "ExecuteTime": {
     "end_time": "2024-11-26T00:10:54.358204Z",
     "start_time": "2024-11-26T00:10:54.353665Z"
    }
   },
   "source": [],
   "outputs": [],
   "execution_count": 32
  },
  {
   "cell_type": "code",
   "id": "a0055948",
   "metadata": {
    "ExecuteTime": {
     "end_time": "2024-11-26T00:10:54.367058Z",
     "start_time": "2024-11-26T00:10:54.360151Z"
    }
   },
   "source": [],
   "outputs": [],
   "execution_count": 32
  }
 ],
 "metadata": {
  "colab": {
   "provenance": []
  },
  "kernelspec": {
   "display_name": "Python 3",
   "language": "python",
   "name": "python3"
  },
  "language_info": {
   "codemirror_mode": {
    "name": "ipython",
    "version": 3
   },
   "file_extension": ".py",
   "mimetype": "text/x-python",
   "name": "python",
   "nbconvert_exporter": "python",
   "pygments_lexer": "ipython3",
   "version": "3.10.7"
  }
 },
 "nbformat": 4,
 "nbformat_minor": 5
}
